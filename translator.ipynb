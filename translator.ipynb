{
 "cells": [
  {
   "cell_type": "code",
   "execution_count": 7,
   "metadata": {},
   "outputs": [
    {
     "name": "stdout",
     "output_type": "stream",
     "text": [
      "['सब कुछ खो गया है', 'कोई उम्मीद नहीं है।']\n"
     ]
    }
   ],
   "source": [
    "import torch\n",
    "from transformers import AutoModelForSeq2SeqLM\n",
    "from IndicTransTokenizer import IndicProcessor, IndicTransTokenizer\n",
    "\n",
    "tokenizer = IndicTransTokenizer(direction=\"en-indic\")\n",
    "ip = IndicProcessor(inference=True)\n",
    "model = AutoModelForSeq2SeqLM.from_pretrained(\"ai4bharat/indictrans2-en-indic-dist-200M\", trust_remote_code=True)\n",
    "\n",
    "sentences = [\n",
    "    \"everything has been lost\",\n",
    "    \"there is no hope.\"\n",
    "]\n",
    "\n",
    "batch = ip.preprocess_batch(sentences, src_lang=\"eng_Latn\", tgt_lang=\"hin_Deva\")\n",
    "batch = tokenizer(batch, src=True, return_tensors=\"pt\")\n",
    "\n",
    "with torch.inference_mode():\n",
    "    outputs = model.generate(**batch, num_beams=5, num_return_sequences=1, max_length=256)\n",
    "\n",
    "outputs = tokenizer.batch_decode(outputs, src=False)\n",
    "outputs = ip.postprocess_batch(outputs, lang=\"hin_Deva\")\n",
    "print(outputs)"
   ]
  }
 ],
 "metadata": {
  "kernelspec": {
   "display_name": "nb",
   "language": "python",
   "name": "python3"
  },
  "language_info": {
   "codemirror_mode": {
    "name": "ipython",
    "version": 3
   },
   "file_extension": ".py",
   "mimetype": "text/x-python",
   "name": "python",
   "nbconvert_exporter": "python",
   "pygments_lexer": "ipython3",
   "version": "3.11.5"
  }
 },
 "nbformat": 4,
 "nbformat_minor": 2
}
